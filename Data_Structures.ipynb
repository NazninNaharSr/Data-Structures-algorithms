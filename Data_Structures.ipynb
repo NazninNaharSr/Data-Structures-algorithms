{
  "nbformat": 4,
  "nbformat_minor": 0,
  "metadata": {
    "colab": {
      "provenance": [],
      "toc_visible": true,
      "authorship_tag": "ABX9TyNFKRL7KlQdx+7EzjwQLIax",
      "include_colab_link": true
    },
    "kernelspec": {
      "name": "python3",
      "display_name": "Python 3"
    },
    "language_info": {
      "name": "python"
    }
  },
  "cells": [
    {
      "cell_type": "markdown",
      "metadata": {
        "id": "view-in-github",
        "colab_type": "text"
      },
      "source": [
        "<a href=\"https://colab.research.google.com/github/NazninNaharSr/Data-Structures-algorithms/blob/main/Data_Structures.ipynb\" target=\"_parent\"><img src=\"https://colab.research.google.com/assets/colab-badge.svg\" alt=\"Open In Colab\"/></a>"
      ]
    },
    {
      "cell_type": "code",
      "execution_count": 7,
      "metadata": {
        "colab": {
          "base_uri": "https://localhost:8080/"
        },
        "id": "TTvA32yMBwGd",
        "outputId": "59b5314b-0aef-4712-cb5a-ae5a0f479037"
      },
      "outputs": [
        {
          "output_type": "stream",
          "name": "stdout",
          "text": [
            "5\n",
            "7\n",
            "9\n",
            "10\n",
            "\n",
            "5 is found\n"
          ]
        }
      ],
      "source": [
        "#create a Linked List in python\n",
        "\n",
        "\n",
        "class Node:\n",
        "    def __init__(self, data=None):\n",
        "        self.data = data\n",
        "        self.next = None\n",
        "\n",
        "class LinkedList:\n",
        "    def __init__(self):\n",
        "        self.head= None\n",
        "\n",
        "    def printLL(self):\n",
        "        temp = self.head\n",
        "        while temp:\n",
        "            print(temp.data)\n",
        "            temp = temp.next\n",
        "\n",
        "    def searchLL(self,x):\n",
        "      current = self.head\n",
        "      while current != None:\n",
        "            if current.data == x:\n",
        "                return True\n",
        "            current = current.next\n",
        "            return False\n",
        "\n",
        "\n",
        "llist = LinkedList()\n",
        "llist.head= Node(5)\n",
        "second = Node(7)\n",
        "third= Node(9)\n",
        "fourth= Node(10)\n",
        "\n",
        "llist.head.next = second\n",
        "second.next = third\n",
        "third.next = fourth\n",
        "\n",
        "llist.printLL()\n",
        "\n",
        "if __name__ == '__main__':\n",
        "  print()\n",
        "  item_to_find = 5\n",
        "  if llist.searchLL(item_to_find):\n",
        "        print(str(item_to_find) + \" is found\")\n",
        "  else:\n",
        "        print(str(item_to_find) + \" is not found\")\n",
        "\n",
        "\n"
      ]
    }
  ]
}