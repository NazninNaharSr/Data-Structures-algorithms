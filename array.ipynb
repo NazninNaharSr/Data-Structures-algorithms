{
  "nbformat": 4,
  "nbformat_minor": 0,
  "metadata": {
    "colab": {
      "provenance": [],
      "authorship_tag": "ABX9TyM2M10IX8DqyXO0YxQF5JJE",
      "include_colab_link": true
    },
    "kernelspec": {
      "name": "python3",
      "display_name": "Python 3"
    },
    "language_info": {
      "name": "python"
    }
  },
  "cells": [
    {
      "cell_type": "markdown",
      "metadata": {
        "id": "view-in-github",
        "colab_type": "text"
      },
      "source": [
        "<a href=\"https://colab.research.google.com/github/NazninNaharSr/Data-Structures-algorithms/blob/main/array.ipynb\" target=\"_parent\"><img src=\"https://colab.research.google.com/assets/colab-badge.svg\" alt=\"Open In Colab\"/></a>"
      ]
    },
    {
      "cell_type": "code",
      "execution_count": 10,
      "metadata": {
        "colab": {
          "base_uri": "https://localhost:8080/"
        },
        "id": "D5CFdwYXgR62",
        "outputId": "34d9108c-fb85-46fd-931a-df96814fd6be"
      },
      "outputs": [
        {
          "output_type": "stream",
          "name": "stdout",
          "text": [
            "array('i', [300, 200, 150, 100])\n",
            "array('i', [300, 200, 100])\n",
            "2\n",
            "array('i', [300, 200, 145])\n"
          ]
        }
      ],
      "source": [
        "import array\n",
        "balance = array.array('i', [300,200,100])\n",
        "#insert an item\n",
        "balance.insert(2, 150)\n",
        "print(balance)\n",
        "#remove an item\n",
        "balance.remove(150)\n",
        "print(balance)\n",
        "#search an item's position\n",
        "print(balance.index(100))# it shows error when I put 150 here, as I already removed it from the list that's why it shows error.\n",
        "#update array\n",
        "balance[2] = 145\n",
        "print(balance)"
      ]
    },
    {
      "cell_type": "code",
      "source": [
        "'''\n",
        "Things to look out for during interviews\n",
        "Clarify if there are duplicate values in the array.\n",
        "Would the presence of duplicate values affect the answer? Does it make the question simpler or harder?\n",
        "When using an index to iterate through array elements, be careful not to go out of bounds.\n",
        "Be mindful about slicing or concatenating arrays in your code.\n",
        "Typically, slicing and concatenating arrays would take O(n) time. Use start and end indices to demarcate a subarray/range where possible.\n",
        "'''\n"
      ],
      "metadata": {
        "id": "atArpMIvibdk"
      },
      "execution_count": null,
      "outputs": []
    }
  ]
}